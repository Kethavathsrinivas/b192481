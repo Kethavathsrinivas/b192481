{
 "cells": [
  {
   "cell_type": "code",
   "execution_count": 13,
   "id": "98ec4f4d",
   "metadata": {},
   "outputs": [],
   "source": [
    "import numpy as np\n"
   ]
  },
  {
   "cell_type": "markdown",
   "id": "f11e4ad1",
   "metadata": {},
   "source": [
    " a=np.array([1,2,3])\n",
    "b=np.array([[2.0,5.0,6.0],[2.0,4.0,5.0,]])\n",
    "print(a)\n",
    "print(b)"
   ]
  },
  {
   "cell_type": "code",
   "execution_count": 23,
   "id": "62059a47",
   "metadata": {},
   "outputs": [
    {
     "data": {
      "text/plain": [
       "1"
      ]
     },
     "execution_count": 23,
     "metadata": {},
     "output_type": "execute_result"
    }
   ],
   "source": [
    "a.ndim"
   ]
  },
  {
   "cell_type": "code",
   "execution_count": 24,
   "id": "14c6c04c",
   "metadata": {},
   "outputs": [
    {
     "data": {
      "text/plain": [
       "(2, 3)"
      ]
     },
     "execution_count": 24,
     "metadata": {},
     "output_type": "execute_result"
    }
   ],
   "source": [
    "b.shape"
   ]
  },
  {
   "cell_type": "code",
   "execution_count": 26,
   "id": "04094f82",
   "metadata": {},
   "outputs": [
    {
     "data": {
      "text/plain": [
       "dtype('int32')"
      ]
     },
     "execution_count": 26,
     "metadata": {},
     "output_type": "execute_result"
    }
   ],
   "source": [
    "a.dtype"
   ]
  },
  {
   "cell_type": "code",
   "execution_count": 27,
   "id": "65f62df1",
   "metadata": {},
   "outputs": [
    {
     "data": {
      "text/plain": [
       "3"
      ]
     },
     "execution_count": 27,
     "metadata": {},
     "output_type": "execute_result"
    }
   ],
   "source": [
    "a.size"
   ]
  },
  {
   "cell_type": "markdown",
   "id": "dabb5dd8",
   "metadata": {},
   "source": [
    "# changing rows"
   ]
  },
  {
   "cell_type": "code",
   "execution_count": 28,
   "id": "dd060abf",
   "metadata": {},
   "outputs": [
    {
     "name": "stdout",
     "output_type": "stream",
     "text": [
      "[[ 1  2  3  4  5  6]\n",
      " [ 7  8  9 10 12 13]]\n"
     ]
    }
   ],
   "source": [
    "k=np.array([[1,2,3,4,5,6],[7,8,9,10,12,13]])\n",
    "print(k)"
   ]
  },
  {
   "cell_type": "code",
   "execution_count": 30,
   "id": "16583f1b",
   "metadata": {},
   "outputs": [
    {
     "data": {
      "text/plain": [
       "(2, 6)"
      ]
     },
     "execution_count": 30,
     "metadata": {},
     "output_type": "execute_result"
    }
   ],
   "source": [
    "k.shape"
   ]
  },
  {
   "cell_type": "code",
   "execution_count": 35,
   "id": "c0389bdc",
   "metadata": {},
   "outputs": [
    {
     "data": {
      "text/plain": [
       "12"
      ]
     },
     "execution_count": 35,
     "metadata": {},
     "output_type": "execute_result"
    }
   ],
   "source": [
    "k[1,-2]"
   ]
  },
  {
   "cell_type": "code",
   "execution_count": 37,
   "id": "79e152d6",
   "metadata": {},
   "outputs": [
    {
     "data": {
      "text/plain": [
       "array([1, 2, 3, 4, 5, 6])"
      ]
     },
     "execution_count": 37,
     "metadata": {},
     "output_type": "execute_result"
    }
   ],
   "source": [
    "k[0,:]"
   ]
  },
  {
   "cell_type": "code",
   "execution_count": 38,
   "id": "d51389af",
   "metadata": {},
   "outputs": [
    {
     "data": {
      "text/plain": [
       "array([ 5, 12])"
      ]
     },
     "execution_count": 38,
     "metadata": {},
     "output_type": "execute_result"
    }
   ],
   "source": [
    "k[:,4]"
   ]
  },
  {
   "cell_type": "code",
   "execution_count": 43,
   "id": "c6519c08",
   "metadata": {},
   "outputs": [
    {
     "data": {
      "text/plain": [
       "array([3])"
      ]
     },
     "execution_count": 43,
     "metadata": {},
     "output_type": "execute_result"
    }
   ],
   "source": [
    "k[0, 2:4:5]"
   ]
  },
  {
   "cell_type": "code",
   "execution_count": 44,
   "id": "e66c6427",
   "metadata": {},
   "outputs": [
    {
     "data": {
      "text/plain": [
       "array([[0., 0., 0.],\n",
       "       [0., 0., 0.]])"
      ]
     },
     "execution_count": 44,
     "metadata": {},
     "output_type": "execute_result"
    }
   ],
   "source": [
    "#arrays\n",
    "np.zeros((2,3))"
   ]
  },
  {
   "cell_type": "code",
   "execution_count": 45,
   "id": "8ef5854d",
   "metadata": {},
   "outputs": [
    {
     "data": {
      "text/plain": [
       "array([[[1., 1.],\n",
       "        [1., 1.]],\n",
       "\n",
       "       [[1., 1.],\n",
       "        [1., 1.]],\n",
       "\n",
       "       [[1., 1.],\n",
       "        [1., 1.]],\n",
       "\n",
       "       [[1., 1.],\n",
       "        [1., 1.]]])"
      ]
     },
     "execution_count": 45,
     "metadata": {},
     "output_type": "execute_result"
    }
   ],
   "source": [
    "np.ones((4,2,2))"
   ]
  },
  {
   "cell_type": "code",
   "execution_count": 46,
   "id": "b29e9371",
   "metadata": {},
   "outputs": [
    {
     "data": {
      "text/plain": [
       "array([[88, 88],\n",
       "       [88, 88]])"
      ]
     },
     "execution_count": 46,
     "metadata": {},
     "output_type": "execute_result"
    }
   ],
   "source": [
    "np.full((2,2),88)"
   ]
  },
  {
   "cell_type": "code",
   "execution_count": 49,
   "id": "4f6932f9",
   "metadata": {},
   "outputs": [
    {
     "data": {
      "text/plain": [
       "array([[0.31447967, 0.55262337],\n",
       "       [0.01255   , 0.37986651],\n",
       "       [0.2591885 , 0.63552964],\n",
       "       [0.90466918, 0.5338131 ]])"
      ]
     },
     "execution_count": 49,
     "metadata": {},
     "output_type": "execute_result"
    }
   ],
   "source": [
    "np.random.rand(4,2)"
   ]
  },
  {
   "cell_type": "code",
   "execution_count": 50,
   "id": "a8d8d9ee",
   "metadata": {},
   "outputs": [
    {
     "data": {
      "text/plain": [
       "array([[ 1,  7],\n",
       "       [ 2,  8],\n",
       "       [ 3,  9],\n",
       "       [ 4, 10],\n",
       "       [ 5, 12],\n",
       "       [ 6, 13]])"
      ]
     },
     "execution_count": 50,
     "metadata": {},
     "output_type": "execute_result"
    }
   ],
   "source": [
    "k.T"
   ]
  },
  {
   "cell_type": "code",
   "execution_count": 52,
   "id": "fdad43a9",
   "metadata": {},
   "outputs": [
    {
     "data": {
      "text/plain": [
       "array([[1, 2, 5],\n",
       "       [0, 2, 1],\n",
       "       [1, 4, 3]])"
      ]
     },
     "execution_count": 52,
     "metadata": {},
     "output_type": "execute_result"
    }
   ],
   "source": [
    "np.random.randint(7,size=(3,3))"
   ]
  },
  {
   "cell_type": "code",
   "execution_count": 59,
   "id": "d34ca518",
   "metadata": {},
   "outputs": [
    {
     "data": {
      "text/plain": [
       "array([[1., 0., 0., 0., 0.],\n",
       "       [0., 1., 0., 0., 0.],\n",
       "       [0., 0., 1., 0., 0.],\n",
       "       [0., 0., 0., 1., 0.],\n",
       "       [0., 0., 0., 0., 1.]])"
      ]
     },
     "execution_count": 59,
     "metadata": {},
     "output_type": "execute_result"
    }
   ],
   "source": [
    "np.identity(5)"
   ]
  },
  {
   "cell_type": "code",
   "execution_count": 68,
   "id": "37007dfe",
   "metadata": {},
   "outputs": [
    {
     "name": "stdout",
     "output_type": "stream",
     "text": [
      "[1 2 3 4 5 6]\n",
      "[ 7  8  9 10 11 12]\n"
     ]
    }
   ],
   "source": [
    "#MATHS\n",
    "m=np.array([1,2,3,4,5,6])\n",
    "n=np.array([7,8,9,10,11,12])\n",
    "print(m)\n",
    "print(n)"
   ]
  },
  {
   "cell_type": "code",
   "execution_count": 69,
   "id": "a4c1581f",
   "metadata": {},
   "outputs": [
    {
     "data": {
      "text/plain": [
       "array([2, 3, 4, 5, 6, 7])"
      ]
     },
     "execution_count": 69,
     "metadata": {},
     "output_type": "execute_result"
    }
   ],
   "source": [
    "m+1"
   ]
  },
  {
   "cell_type": "code",
   "execution_count": 70,
   "id": "89ffc6c7",
   "metadata": {},
   "outputs": [
    {
     "data": {
      "text/plain": [
       "array([ 2,  4,  6,  8, 10, 12])"
      ]
     },
     "execution_count": 70,
     "metadata": {},
     "output_type": "execute_result"
    }
   ],
   "source": [
    "m+2\n",
    "m/2\n",
    "m*2\n"
   ]
  },
  {
   "cell_type": "code",
   "execution_count": 71,
   "id": "7c3b93e8",
   "metadata": {},
   "outputs": [
    {
     "data": {
      "text/plain": [
       "array([0.5, 1. , 1.5, 2. , 2.5, 3. ])"
      ]
     },
     "execution_count": 71,
     "metadata": {},
     "output_type": "execute_result"
    }
   ],
   "source": [
    "m/2"
   ]
  },
  {
   "cell_type": "code",
   "execution_count": 73,
   "id": "9e9aa765",
   "metadata": {},
   "outputs": [
    {
     "data": {
      "text/plain": [
       "array([ 7, 16, 27, 40, 55, 72])"
      ]
     },
     "execution_count": 73,
     "metadata": {},
     "output_type": "execute_result"
    }
   ],
   "source": [
    "m*n"
   ]
  },
  {
   "cell_type": "code",
   "execution_count": 1,
   "id": "d19ea850",
   "metadata": {},
   "outputs": [],
   "source": [
    "s='srinivas'"
   ]
  },
  {
   "cell_type": "code",
   "execution_count": 2,
   "id": "cbdecad1",
   "metadata": {},
   "outputs": [
    {
     "name": "stdout",
     "output_type": "stream",
     "text": [
      "Srinivas\n",
      "SRINIVAS\n",
      "srinivas\n",
      "                                              srinivas                                              \n",
      "srinivas\n",
      "wo rld\n"
     ]
    },
    {
     "ename": "NameError",
     "evalue": "name 'srinivas' is not defined",
     "output_type": "error",
     "traceback": [
      "\u001b[1;31m---------------------------------------------------------------------------\u001b[0m",
      "\u001b[1;31mNameError\u001b[0m                                 Traceback (most recent call last)",
      "Input \u001b[1;32mIn [2]\u001b[0m, in \u001b[0;36m<cell line: 7>\u001b[1;34m()\u001b[0m\n\u001b[0;32m      5\u001b[0m \u001b[38;5;28mprint\u001b[39m(s\u001b[38;5;241m.\u001b[39mreplace(\u001b[38;5;124m'\u001b[39m\u001b[38;5;124m1\u001b[39m\u001b[38;5;124m'\u001b[39m,\u001b[38;5;124m'\u001b[39m\u001b[38;5;124msri\u001b[39m\u001b[38;5;124m'\u001b[39m))\n\u001b[0;32m      6\u001b[0m \u001b[38;5;28mprint\u001b[39m(\u001b[38;5;124m'\u001b[39m\u001b[38;5;124mwo rld\u001b[39m\u001b[38;5;124m'\u001b[39m\u001b[38;5;241m.\u001b[39mstrip())\n\u001b[1;32m----> 7\u001b[0m \u001b[38;5;28mprint\u001b[39m(\u001b[43msrinivas\u001b[49m,\u001b[38;5;28mlen\u001b[39m(srinivas))\n",
      "\u001b[1;31mNameError\u001b[0m: name 'srinivas' is not defined"
     ]
    }
   ],
   "source": [
    "print(s.capitalize())\n",
    "print(s.upper())\n",
    "print(s.rjust(7))\n",
    "print(s.center(100))\n",
    "print(s.replace('1','sri'))\n",
    "print('wo rld'.strip())\n",
    "print(srinivas,len(srinivas))"
   ]
  },
  {
   "cell_type": "code",
   "execution_count": 50,
   "id": "2dffce85",
   "metadata": {},
   "outputs": [
    {
     "name": "stdout",
     "output_type": "stream",
     "text": [
      "{1, 2, 3, 4, 5}\n",
      "{2, 4, 5, 7, 8}\n",
      "{2, 4, 5}\n",
      "{1, 2, 3, 4, 5, 7, 8}\n",
      "{1, 3}\n"
     ]
    }
   ],
   "source": [
    "x={1,2,3,4,5}\n",
    "y={2,4,5,8,7}\n",
    "print(x)\n",
    "print(y)\n",
    "print(x.intersection(y))\n",
    "print(x.union(y))\n",
    "print(x-y)"
   ]
  },
  {
   "cell_type": "code",
   "execution_count": 6,
   "id": "ceadc97a",
   "metadata": {},
   "outputs": [],
   "source": [
    "students={\"B1\":\"A\",\"B2\":\"B\",\"B3\":\"NONE\"}"
   ]
  },
  {
   "cell_type": "code",
   "execution_count": 7,
   "id": "3941c403",
   "metadata": {},
   "outputs": [
    {
     "name": "stdout",
     "output_type": "stream",
     "text": [
      "NONE\n"
     ]
    }
   ],
   "source": [
    "print(students[\"B3\"])"
   ]
  },
  {
   "cell_type": "code",
   "execution_count": 9,
   "id": "76b19e0d",
   "metadata": {},
   "outputs": [
    {
     "name": "stdout",
     "output_type": "stream",
     "text": [
      "dict_keys(['B1', 'B2', 'B3'])\n",
      "dict_values(['A', 'B', 'NONE'])\n",
      "{'B1': 'A', 'B2': 'B', 'B3': 'NONE'}\n",
      "NONE\n"
     ]
    }
   ],
   "source": [
    "print(students.keys())\n",
    "print(students.values())\n",
    "print(students)\n",
    "print(students.get(\"B3\"))"
   ]
  },
  {
   "cell_type": "code",
   "execution_count": 4,
   "id": "7b6b3167",
   "metadata": {},
   "outputs": [
    {
     "name": "stdout",
     "output_type": "stream",
     "text": [
      "(2, 2) (2, 2)\n",
      "(2, 2)\n",
      "<class 'numpy.ndarray'>\n",
      "<class 'numpy.ndarray'>\n",
      "[[1 2]\n",
      " [7 8]]\n",
      "[[4 5]\n",
      " [5 6]]\n"
     ]
    }
   ],
   "source": [
    "import numpy as np\n",
    "w=[[1,2],[7,8]]\n",
    "x=[[4,5],[5,6]]\n",
    "i=np.array(w)\n",
    "j=np.array(x)\n",
    "print(i.shape,j.shape)\n",
    "print(j.shape)\n",
    "print(type(i))\n",
    "print(type(j))\n",
    "print(i)\n",
    "print(j)"
   ]
  },
  {
   "cell_type": "code",
   "execution_count": 8,
   "id": "49970d4a",
   "metadata": {},
   "outputs": [
    {
     "name": "stdout",
     "output_type": "stream",
     "text": [
      "[[1 7]\n",
      " [2 8]]\n",
      "[[4 5]\n",
      " [5 6]]\n",
      "[[ 5  7]\n",
      " [12 14]]\n",
      "[[ 4 10]\n",
      " [35 48]]\n",
      "[[14 17]\n",
      " [68 83]]\n",
      "[[-1.33333333  0.33333333]\n",
      " [ 1.16666667 -0.16666667]]\n"
     ]
    }
   ],
   "source": [
    "print(i.T)\n",
    "print(j.T)\n",
    "print(i+j)\n",
    "print(i*j)\n",
    "E=np.matmul(i,j)\n",
    "print(E)\n",
    "k=np.linalg.inv(i)\n",
    "print(k)"
   ]
  },
  {
   "cell_type": "code",
   "execution_count": 13,
   "id": "cdef9ce6",
   "metadata": {},
   "outputs": [
    {
     "name": "stdout",
     "output_type": "stream",
     "text": [
      "[[0. 0. 0.]\n",
      " [0. 0. 0.]\n",
      " [0. 0. 0.]\n",
      " [0. 0. 0.]\n",
      " [0. 0. 0.]]\n",
      "[[1. 1. 1.]\n",
      " [1. 1. 1.]\n",
      " [1. 1. 1.]\n",
      " [1. 1. 1.]\n",
      " [1. 1. 1.]]\n",
      "[[1. 0. 0. 0. 0.]\n",
      " [0. 1. 0. 0. 0.]\n",
      " [0. 0. 1. 0. 0.]\n",
      " [0. 0. 0. 1. 0.]\n",
      " [0. 0. 0. 0. 1.]]\n"
     ]
    }
   ],
   "source": [
    "F=np.zeros((5,3))\n",
    "print(F)\n",
    "G=np.ones((5,3))\n",
    "print(G)\n",
    "h=np.eye((5))\n",
    "print(h)"
   ]
  },
  {
   "cell_type": "code",
   "execution_count": 16,
   "id": "12a12195",
   "metadata": {},
   "outputs": [
    {
     "name": "stdout",
     "output_type": "stream",
     "text": [
      "[[0.37764388 0.68612656 0.01411698 0.24493605 0.40709755 0.28374248]\n",
      " [0.35844818 0.67087656 0.87813211 0.65333296 0.64576453 0.06767622]\n",
      " [0.87722514 0.32891044 0.63702018 0.61485674 0.54502439 0.35404383]\n",
      " [0.24474817 0.23908256 0.22888848 0.02340683 0.67639996 0.49126832]\n",
      " [0.92643976 0.09592711 0.23267576 0.16261828 0.5869641  0.04792168]]\n",
      "[[0.84147098 0.90929743]\n",
      " [0.6569866  0.98935825]]\n"
     ]
    }
   ],
   "source": [
    "l=np.random.random((5,6))\n",
    "print(l)\n",
    "m=np.sin(i)\n",
    "print(m)"
   ]
  },
  {
   "cell_type": "code",
   "execution_count": 3,
   "id": "fed5c501",
   "metadata": {},
   "outputs": [],
   "source": [
    "import matplotlib.pyplot as plt\n",
    "import numpy as np"
   ]
  },
  {
   "cell_type": "code",
   "execution_count": 4,
   "id": "34d070d0",
   "metadata": {},
   "outputs": [],
   "source": [
    "o=np.arange(0,10,0.9)\n",
    "p=np.sin(o)\n",
    "q=np.cos(o)"
   ]
  },
  {
   "cell_type": "code",
   "execution_count": 5,
   "id": "da8f53ff",
   "metadata": {},
   "outputs": [
    {
     "ename": "SyntaxError",
     "evalue": "EOL while scanning string literal (2751443552.py, line 3)",
     "output_type": "error",
     "traceback": [
      "\u001b[1;36m  Input \u001b[1;32mIn [5]\u001b[1;36m\u001b[0m\n\u001b[1;33m    s=20'\u001b[0m\n\u001b[1;37m         ^\u001b[0m\n\u001b[1;31mSyntaxError\u001b[0m\u001b[1;31m:\u001b[0m EOL while scanning string literal\n"
     ]
    }
   ],
   "source": [
    "fig=plt.figure(figsize(0,10,0.9))\n",
    "plt.scatter(p,q,\n",
    "           s=20'\n",
    "            edgecolor=\n",
    "           )\n",
    "plt.show()"
   ]
  },
  {
   "cell_type": "code",
   "execution_count": null,
   "id": "114a8d6f",
   "metadata": {},
   "outputs": [],
   "source": []
  },
  {
   "cell_type": "code",
   "execution_count": null,
   "id": "0291d609",
   "metadata": {},
   "outputs": [],
   "source": []
  },
  {
   "cell_type": "code",
   "execution_count": null,
   "id": "6d3c5acf",
   "metadata": {},
   "outputs": [],
   "source": []
  }
 ],
 "metadata": {
  "kernelspec": {
   "display_name": "Python 3 (ipykernel)",
   "language": "python",
   "name": "python3"
  },
  "language_info": {
   "codemirror_mode": {
    "name": "ipython",
    "version": 3
   },
   "file_extension": ".py",
   "mimetype": "text/x-python",
   "name": "python",
   "nbconvert_exporter": "python",
   "pygments_lexer": "ipython3",
   "version": "3.9.12"
  }
 },
 "nbformat": 4,
 "nbformat_minor": 5
}
